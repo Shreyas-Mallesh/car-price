{
 "cells": [
  {
   "cell_type": "markdown",
   "metadata": {},
   "source": [
    "<h1>Model Development and Evaluation</h1>"
   ]
  },
  {
   "cell_type": "markdown",
   "metadata": {},
   "source": [
    "<p>Developing several models that will predict the price of the car using the variables or features. This is just an estimate but should give us an objective idea of how much the car should cost.</p>"
   ]
  },
  {
   "cell_type": "code",
   "execution_count": 1,
   "metadata": {},
   "outputs": [
    {
     "data": {
      "text/html": [
       "<div>\n",
       "<style scoped>\n",
       "    .dataframe tbody tr th:only-of-type {\n",
       "        vertical-align: middle;\n",
       "    }\n",
       "\n",
       "    .dataframe tbody tr th {\n",
       "        vertical-align: top;\n",
       "    }\n",
       "\n",
       "    .dataframe thead th {\n",
       "        text-align: right;\n",
       "    }\n",
       "</style>\n",
       "<table border=\"1\" class=\"dataframe\">\n",
       "  <thead>\n",
       "    <tr style=\"text-align: right;\">\n",
       "      <th></th>\n",
       "      <th>symboling</th>\n",
       "      <th>normalized-losses</th>\n",
       "      <th>make</th>\n",
       "      <th>aspiration</th>\n",
       "      <th>num-of-doors</th>\n",
       "      <th>body-style</th>\n",
       "      <th>drive-wheels</th>\n",
       "      <th>engine-location</th>\n",
       "      <th>wheel-base</th>\n",
       "      <th>length</th>\n",
       "      <th>...</th>\n",
       "      <th>compression-ratio</th>\n",
       "      <th>horsepower</th>\n",
       "      <th>peak-rpm</th>\n",
       "      <th>city-mpg</th>\n",
       "      <th>highway-mpg</th>\n",
       "      <th>price</th>\n",
       "      <th>city-L/100km</th>\n",
       "      <th>horsepower-binned</th>\n",
       "      <th>diesel</th>\n",
       "      <th>gas</th>\n",
       "    </tr>\n",
       "  </thead>\n",
       "  <tbody>\n",
       "    <tr>\n",
       "      <th>0</th>\n",
       "      <td>3</td>\n",
       "      <td>122</td>\n",
       "      <td>alfa-romero</td>\n",
       "      <td>std</td>\n",
       "      <td>two</td>\n",
       "      <td>convertible</td>\n",
       "      <td>rwd</td>\n",
       "      <td>front</td>\n",
       "      <td>88.6</td>\n",
       "      <td>0.811148</td>\n",
       "      <td>...</td>\n",
       "      <td>9.0</td>\n",
       "      <td>111.0</td>\n",
       "      <td>5000.0</td>\n",
       "      <td>21</td>\n",
       "      <td>27</td>\n",
       "      <td>13495.0</td>\n",
       "      <td>11.190476</td>\n",
       "      <td>Medium</td>\n",
       "      <td>0</td>\n",
       "      <td>1</td>\n",
       "    </tr>\n",
       "    <tr>\n",
       "      <th>1</th>\n",
       "      <td>3</td>\n",
       "      <td>122</td>\n",
       "      <td>alfa-romero</td>\n",
       "      <td>std</td>\n",
       "      <td>two</td>\n",
       "      <td>convertible</td>\n",
       "      <td>rwd</td>\n",
       "      <td>front</td>\n",
       "      <td>88.6</td>\n",
       "      <td>0.811148</td>\n",
       "      <td>...</td>\n",
       "      <td>9.0</td>\n",
       "      <td>111.0</td>\n",
       "      <td>5000.0</td>\n",
       "      <td>21</td>\n",
       "      <td>27</td>\n",
       "      <td>16500.0</td>\n",
       "      <td>11.190476</td>\n",
       "      <td>Medium</td>\n",
       "      <td>0</td>\n",
       "      <td>1</td>\n",
       "    </tr>\n",
       "    <tr>\n",
       "      <th>2</th>\n",
       "      <td>1</td>\n",
       "      <td>122</td>\n",
       "      <td>alfa-romero</td>\n",
       "      <td>std</td>\n",
       "      <td>two</td>\n",
       "      <td>hatchback</td>\n",
       "      <td>rwd</td>\n",
       "      <td>front</td>\n",
       "      <td>94.5</td>\n",
       "      <td>0.822681</td>\n",
       "      <td>...</td>\n",
       "      <td>9.0</td>\n",
       "      <td>154.0</td>\n",
       "      <td>5000.0</td>\n",
       "      <td>19</td>\n",
       "      <td>26</td>\n",
       "      <td>16500.0</td>\n",
       "      <td>12.368421</td>\n",
       "      <td>Medium</td>\n",
       "      <td>0</td>\n",
       "      <td>1</td>\n",
       "    </tr>\n",
       "    <tr>\n",
       "      <th>3</th>\n",
       "      <td>2</td>\n",
       "      <td>164</td>\n",
       "      <td>audi</td>\n",
       "      <td>std</td>\n",
       "      <td>four</td>\n",
       "      <td>sedan</td>\n",
       "      <td>fwd</td>\n",
       "      <td>front</td>\n",
       "      <td>99.8</td>\n",
       "      <td>0.848630</td>\n",
       "      <td>...</td>\n",
       "      <td>10.0</td>\n",
       "      <td>102.0</td>\n",
       "      <td>5500.0</td>\n",
       "      <td>24</td>\n",
       "      <td>30</td>\n",
       "      <td>13950.0</td>\n",
       "      <td>9.791667</td>\n",
       "      <td>Medium</td>\n",
       "      <td>0</td>\n",
       "      <td>1</td>\n",
       "    </tr>\n",
       "    <tr>\n",
       "      <th>4</th>\n",
       "      <td>2</td>\n",
       "      <td>164</td>\n",
       "      <td>audi</td>\n",
       "      <td>std</td>\n",
       "      <td>four</td>\n",
       "      <td>sedan</td>\n",
       "      <td>4wd</td>\n",
       "      <td>front</td>\n",
       "      <td>99.4</td>\n",
       "      <td>0.848630</td>\n",
       "      <td>...</td>\n",
       "      <td>8.0</td>\n",
       "      <td>115.0</td>\n",
       "      <td>5500.0</td>\n",
       "      <td>18</td>\n",
       "      <td>22</td>\n",
       "      <td>17450.0</td>\n",
       "      <td>13.055556</td>\n",
       "      <td>Medium</td>\n",
       "      <td>0</td>\n",
       "      <td>1</td>\n",
       "    </tr>\n",
       "  </tbody>\n",
       "</table>\n",
       "<p>5 rows × 29 columns</p>\n",
       "</div>"
      ],
      "text/plain": [
       "   symboling  normalized-losses         make aspiration num-of-doors  \\\n",
       "0          3                122  alfa-romero        std          two   \n",
       "1          3                122  alfa-romero        std          two   \n",
       "2          1                122  alfa-romero        std          two   \n",
       "3          2                164         audi        std         four   \n",
       "4          2                164         audi        std         four   \n",
       "\n",
       "    body-style drive-wheels engine-location  wheel-base    length  ...  \\\n",
       "0  convertible          rwd           front        88.6  0.811148  ...   \n",
       "1  convertible          rwd           front        88.6  0.811148  ...   \n",
       "2    hatchback          rwd           front        94.5  0.822681  ...   \n",
       "3        sedan          fwd           front        99.8  0.848630  ...   \n",
       "4        sedan          4wd           front        99.4  0.848630  ...   \n",
       "\n",
       "   compression-ratio  horsepower  peak-rpm city-mpg highway-mpg    price  \\\n",
       "0                9.0       111.0    5000.0       21          27  13495.0   \n",
       "1                9.0       111.0    5000.0       21          27  16500.0   \n",
       "2                9.0       154.0    5000.0       19          26  16500.0   \n",
       "3               10.0       102.0    5500.0       24          30  13950.0   \n",
       "4                8.0       115.0    5500.0       18          22  17450.0   \n",
       "\n",
       "  city-L/100km  horsepower-binned  diesel  gas  \n",
       "0    11.190476             Medium       0    1  \n",
       "1    11.190476             Medium       0    1  \n",
       "2    12.368421             Medium       0    1  \n",
       "3     9.791667             Medium       0    1  \n",
       "4    13.055556             Medium       0    1  \n",
       "\n",
       "[5 rows x 29 columns]"
      ]
     },
     "execution_count": 1,
     "metadata": {},
     "output_type": "execute_result"
    }
   ],
   "source": [
    "import pandas as pd\n",
    "import numpy as np\n",
    "import matplotlib.pyplot as plt\n",
    "filename = 'cleaned_df'\n",
    "\n",
    "df = pd.read_csv(filename + \".csv\")\n",
    "df.head()"
   ]
  },
  {
   "cell_type": "markdown",
   "metadata": {},
   "source": [
    "### Train test split"
   ]
  },
  {
   "cell_type": "code",
   "execution_count": 63,
   "metadata": {},
   "outputs": [],
   "source": [
    "from sklearn.model_selection import train_test_split"
   ]
  },
  {
   "cell_type": "code",
   "execution_count": 64,
   "metadata": {},
   "outputs": [],
   "source": [
    "x=d1.drop([\"price\"],axis=1)\n",
    "y=d1[\"price\"]"
   ]
  },
  {
   "cell_type": "code",
   "execution_count": 65,
   "metadata": {},
   "outputs": [],
   "source": [
    "x_train,x_test,y_train,y_test=train_test_split(x,y,train_size=0.7,random_state=0)   "
   ]
  },
  {
   "cell_type": "markdown",
   "metadata": {},
   "source": [
    "<h2> Linear Regression</h2>"
   ]
  },
  {
   "cell_type": "code",
   "execution_count": 117,
   "metadata": {
    "scrolled": true
   },
   "outputs": [
    {
     "data": {
      "text/plain": [
       "LinearRegression(copy_X=True, fit_intercept=True, n_jobs=None, normalize=False)"
      ]
     },
     "execution_count": 117,
     "metadata": {},
     "output_type": "execute_result"
    }
   ],
   "source": [
    "from sklearn.model_selection import train_test_split\n",
    "from sklearn.linear_model import LinearRegression\n",
    "from sklearn.linear_model import Ridge\n",
    "lm = LinearRegression()\n",
    "lm.fit(x_train, y_train)"
   ]
  },
  {
   "cell_type": "code",
   "execution_count": 137,
   "metadata": {
    "scrolled": true
   },
   "outputs": [
    {
     "name": "stdout",
     "output_type": "stream",
     "text": [
      "[ 5117.3400597  12491.51629349 18370.4677396  15410.78676596\n",
      " 20309.48134686 10068.22758481 18914.81150958  5650.51454996\n",
      " 23366.19791704  7990.52963423  9303.63771629 29417.32765179\n",
      "  8862.18564753  9371.4483414  12393.62116657 19641.91133459\n",
      "  6129.24382195 13242.23245791  8776.18362887  6197.87847152\n",
      " 10988.26272421 14311.97532629 25561.7438836  10456.51718493\n",
      "  9555.07978125 25914.76319115  9724.39006397  9458.94858367\n",
      " 19776.60982339 25561.7438836  27687.67191117 16157.06557919\n",
      "  7320.39774922 18556.25812364 10685.68394798 10136.77353571\n",
      " 14278.05141973 18525.26186594 11313.68591934 13541.97856452\n",
      "  5516.35323515 22352.93240288 12114.13813749 16180.86392388\n",
      " 16144.72650056 14271.80503092 21818.59899229  6552.89707766\n",
      "  7503.27586266  8841.98309617 33566.16229846 25914.76319115\n",
      "  9942.47421844 10440.06677234  7231.77734576  7503.27586266\n",
      "  5692.21731765  9555.76660492 10443.34635677  9109.3843759\n",
      " 14547.92970672]\n",
      "LR Train Score:  0.9069082135292689\n",
      "LR Test Score:  0.851996409959216\n",
      "LM MAE : 2491.0017556362736\n",
      "LM RMSE : 3561.3063428825103\n"
     ]
    }
   ],
   "source": [
    "lm_pred=lm.predict(x_test)\n",
    "print(lm_pred)\n",
    "print('LR Train Score: ',lm.score(x_train,y_train))\n",
    "print('LR Test Score: ',lm.score(x_test,y_test))\n",
    "print('LM MAE :',mean_absolute_error(y_test,lm_pred))\n",
    "print('LM RMSE :',np.sqrt(mean_squared_error(y_test,lm_pred)))"
   ]
  },
  {
   "cell_type": "markdown",
   "metadata": {},
   "source": [
    "<h2> RandomForest</h2>"
   ]
  },
  {
   "cell_type": "code",
   "execution_count": 139,
   "metadata": {
    "scrolled": true
   },
   "outputs": [
    {
     "name": "stdout",
     "output_type": "stream",
     "text": [
      "[ 5762.2         9590.7        19693.3        15019.7\n",
      " 16230.1         8716.9        12588.8         6660.\n",
      " 20264.          7281.2        10599.6        27187.5\n",
      "  7647.1         7673.2        13400.         15421.9\n",
      "  6542.2        13109.46666667  8302.6         6474.\n",
      " 10145.1        16677.63333333 38660.4         8483.9\n",
      "  9847.6        27187.5         8830.4         9420.6\n",
      " 16076.9        38660.4        39262.9        16364.8\n",
      "  8037.4        19693.3         8439.1        10912.1\n",
      " 13253.96666667 18361.          8895.1        16116.2\n",
      "  7132.         25698.6         9183.3        14981.4\n",
      " 11951.8        11432.         18657.8         6892.5\n",
      "  7018.1        10651.6        38668.8        27187.5\n",
      " 11246.1         9242.9         7647.8         7018.1\n",
      "  6066.          8303.9        14681.825      10472.5\n",
      " 13597.8       ]\n",
      "RF Train Score:  0.983824392328118\n",
      "RF Test Score:  0.8902396102434523\n",
      "RF MAE : 2109.212431693989\n",
      "RF RMSE : 3066.8746692958803\n"
     ]
    }
   ],
   "source": [
    "from sklearn.ensemble import RandomForestRegressorfrom sklearn.ensemble \n",
    "rf = RandomForestRegressor()\n",
    "rf.fit(x_train, y_train)\n",
    "rf_pred=rf.predict(x_test)\n",
    "print(rf_pred)\n",
    "print('RF Train Score: ',rf.score(x_train,y_train))\n",
    "print('RF Test Score: ',rf.score(x_test,y_test))\n",
    "print('RF MAE :',mean_absolute_error(y_test,rf_pred))\n",
    "print('RF RMSE :',np.sqrt(mean_squared_error(y_test,rf_pred)))"
   ]
  },
  {
   "cell_type": "code",
   "execution_count": 141,
   "metadata": {
    "scrolled": false
   },
   "outputs": [
    {
     "name": "stdout",
     "output_type": "stream",
     "text": [
      "[ 6168.53425513  9266.70197511 18445.19620626 22325.81613804\n",
      " 23896.83107347  8688.26485613 15724.32376139  6594.57623264\n",
      " 21278.76772696  8162.64047707  9966.75563861 22895.74888498\n",
      "  8340.03446107  7923.34238626 14015.50566777 16120.74107435\n",
      "  5944.07611428 12165.34068331  8986.35013796  5845.92572061\n",
      "  8792.54345107 14167.87539362 31941.04177786  8208.0815203\n",
      " 10006.45363326 22895.74888498  8450.92392945 10790.21990953\n",
      " 14759.4226943  31941.04177786 30647.72374679 13603.2862424\n",
      "  6486.49805951 18445.19620626  8202.20366309 10273.04279783\n",
      " 13792.46819861 15413.50336746  8407.50928461 18352.62009939\n",
      "  7444.19282362 27935.10685388 10145.86337764 16377.75884355\n",
      " 11280.80642979  9921.0983699  18558.07768922  6485.99172979\n",
      "  7303.55203865  6697.56566537 31941.04177786 22895.74888498\n",
      " 11627.30224489  8592.54616443  7160.55295701  7303.55203865\n",
      "  5847.49714533  8045.52545189 15867.95136573  9507.68762638\n",
      " 14220.98627686]\n",
      "RF Train Score:  0.9167568139147774\n",
      "RF Test Score:  0.7830626156422104\n",
      "RF MAE : 2687.628988678818\n",
      "RF RMSE : 4311.619306970065\n"
     ]
    }
   ],
   "source": [
    "from lightgbm import LGBMRegressor\n",
    "lgb=LGBMRegressor()\n",
    "lgb.fit(x_train,y_train)\n",
    "lgb_pred=lgb.predict(x_test)\n",
    "print(lgb_pred)\n",
    "print('RF Train Score: ',lgb.score(x_train,y_train))\n",
    "print('RF Test Score: ',lgb.score(x_test,y_test))\n",
    "print('RF MAE :',mean_absolute_error(y_test,lgb_pred))\n",
    "print('RF RMSE :',np.sqrt(mean_squared_error(y_test,lgb_pred)))"
   ]
  },
  {
   "cell_type": "code",
   "execution_count": 143,
   "metadata": {
    "scrolled": true
   },
   "outputs": [
    {
     "name": "stdout",
     "output_type": "stream",
     "text": [
      "[ 5663.799  11679.227  19441.566  13740.172  16949.209   8257.516\n",
      " 15399.089   6417.0723 20969.547   7586.2075  9437.661  25769.955\n",
      "  7772.4375  7888.0903 14485.403  15985.802   6590.533  13994.101\n",
      "  7896.383   6081.485   9915.018   8480.923  39028.82    8073.2905\n",
      "  9435.844  25910.121   8194.843  10226.128  17235.62   39028.82\n",
      " 41126.652  14832.31    7296.35   19302.81    8700.48    9706.607\n",
      " 14495.433  16002.618   8851.401  16767.523   6932.9927 25664.195\n",
      "  8833.387  16897.49   12570.127  11997.891  13520.074   6739.782\n",
      "  7606.6533  9310.189  40648.09   25910.121  10893.002   8851.959\n",
      "  7709.8237  7606.6533  6081.428   7588.988  15776.29   10575.001\n",
      " 14652.788 ]\n",
      "RF Train Score:  0.9990896230678494\n",
      "RF Test Score:  0.8729474655525076\n",
      "RF MAE : 2146.7647044697746\n",
      "RF RMSE : 3299.627197206904\n"
     ]
    }
   ],
   "source": [
    "import xgboost as xgb\n",
    "xgbc = xgb.XGBRegressor()\n",
    "xgbc.fit(x_train,y_train)\n",
    "y_test_pred=xgbc.predict(x_test)\n",
    "print(y_test_pred)\n",
    "print('RF Train Score: ',xgbc.score(x_train,y_train))\n",
    "print('RF Test Score: ',xgbc.score(x_test,y_test))\n",
    "print('RF MAE :',mean_absolute_error(y_test,y_test_pred))\n",
    "print('RF RMSE :',np.sqrt(mean_squared_error(y_test,y_test_pred)))"
   ]
  },
  {
   "cell_type": "markdown",
   "metadata": {},
   "source": [
    "<h2 id=\"ref4\">Grid Search</h2>"
   ]
  },
  {
   "cell_type": "code",
   "execution_count": 80,
   "metadata": {},
   "outputs": [],
   "source": [
    "from sklearn.model_selection import GridSearchCV"
   ]
  },
  {
   "cell_type": "code",
   "execution_count": 81,
   "metadata": {
    "scrolled": true
   },
   "outputs": [
    {
     "data": {
      "text/plain": [
       "[{'alpha': [0.001, 0.1, 1, 10, 100, 1000, 10000, 100000, 100000]}]"
      ]
     },
     "execution_count": 81,
     "metadata": {},
     "output_type": "execute_result"
    }
   ],
   "source": [
    "parameters1= [{'alpha': [0.001,0.1,1, 10, 100, 1000, 10000, 100000, 100000]}]\n",
    "parameters1"
   ]
  },
  {
   "cell_type": "code",
   "execution_count": 82,
   "metadata": {
    "scrolled": false
   },
   "outputs": [
    {
     "data": {
      "text/plain": [
       "Ridge(alpha=1.0, copy_X=True, fit_intercept=True, max_iter=None,\n",
       "   normalize=False, random_state=None, solver='auto', tol=0.001)"
      ]
     },
     "execution_count": 82,
     "metadata": {},
     "output_type": "execute_result"
    }
   ],
   "source": [
    "RR=Ridge()\n",
    "RR"
   ]
  },
  {
   "cell_type": "code",
   "execution_count": 83,
   "metadata": {},
   "outputs": [],
   "source": [
    "Grid1 = GridSearchCV(RR, parameters1,cv=4)"
   ]
  },
  {
   "cell_type": "code",
   "execution_count": 84,
   "metadata": {
    "scrolled": false
   },
   "outputs": [
    {
     "name": "stderr",
     "output_type": "stream",
     "text": [
      "/home/jupyterlab/conda/lib/python3.6/site-packages/sklearn/model_selection/_search.py:841: DeprecationWarning: The default of the `iid` parameter will change from True to False in version 0.22 and will be removed in 0.24. This will change numeric results when test-set sizes are unequal.\n",
      "  DeprecationWarning)\n"
     ]
    },
    {
     "data": {
      "text/plain": [
       "GridSearchCV(cv=4, error_score='raise-deprecating',\n",
       "       estimator=Ridge(alpha=1.0, copy_X=True, fit_intercept=True, max_iter=None,\n",
       "   normalize=False, random_state=None, solver='auto', tol=0.001),\n",
       "       fit_params=None, iid='warn', n_jobs=None,\n",
       "       param_grid=[{'alpha': [0.001, 0.1, 1, 10, 100, 1000, 10000, 100000, 100000]}],\n",
       "       pre_dispatch='2*n_jobs', refit=True, return_train_score='warn',\n",
       "       scoring=None, verbose=0)"
      ]
     },
     "execution_count": 84,
     "metadata": {},
     "output_type": "execute_result"
    }
   ],
   "source": [
    "Grid1.fit(x_data[['horsepower', 'curb-weight', 'engine-size', 'highway-mpg']], y_data)"
   ]
  },
  {
   "cell_type": "code",
   "execution_count": 85,
   "metadata": {
    "scrolled": true
   },
   "outputs": [
    {
     "data": {
      "text/plain": [
       "Ridge(alpha=10000, copy_X=True, fit_intercept=True, max_iter=None,\n",
       "   normalize=False, random_state=None, solver='auto', tol=0.001)"
      ]
     },
     "execution_count": 85,
     "metadata": {},
     "output_type": "execute_result"
    }
   ],
   "source": [
    "BestRR=Grid1.best_estimator_\n",
    "BestRR"
   ]
  },
  {
   "cell_type": "code",
   "execution_count": 139,
   "metadata": {
    "scrolled": true
   },
   "outputs": [
    {
     "name": "stdout",
     "output_type": "stream",
     "text": [
      "[ 5762.2         9590.7        19693.3        15019.7\n",
      " 16230.1         8716.9        12588.8         6660.\n",
      " 20264.          7281.2        10599.6        27187.5\n",
      "  7647.1         7673.2        13400.         15421.9\n",
      "  6542.2        13109.46666667  8302.6         6474.\n",
      " 10145.1        16677.63333333 38660.4         8483.9\n",
      "  9847.6        27187.5         8830.4         9420.6\n",
      " 16076.9        38660.4        39262.9        16364.8\n",
      "  8037.4        19693.3         8439.1        10912.1\n",
      " 13253.96666667 18361.          8895.1        16116.2\n",
      "  7132.         25698.6         9183.3        14981.4\n",
      " 11951.8        11432.         18657.8         6892.5\n",
      "  7018.1        10651.6        38668.8        27187.5\n",
      " 11246.1         9242.9         7647.8         7018.1\n",
      "  6066.          8303.9        14681.825      10472.5\n",
      " 13597.8       ]\n",
      "RF Train Score:  0.983824392328118\n",
      "RF Test Score:  0.8902396102434523\n",
      "RF MAE : 2109.212431693989\n",
      "RF RMSE : 3066.8746692958803\n"
     ]
    }
   ],
   "source": [
    "from sklearn.ensemble import RandomForestRegressorfrom sklearn.ensemble \n",
    "rf = RandomForestRegressor()\n",
    "rf.fit(x_train, y_train)\n",
    "rf_pred=rf.predict(x_test)\n",
    "print(rf_pred)\n",
    "print('RF Train Score: ',rf.score(x_train,y_train))\n",
    "print('RF Test Score: ',rf.score(x_test,y_test))\n",
    "print('RF MAE :',mean_absolute_error(y_test,rf_pred))\n",
    "print('RF RMSE :',np.sqrt(mean_squared_error(y_test,rf_pred)))"
   ]
  },
  {
   "cell_type": "code",
   "execution_count": 81,
   "metadata": {
    "scrolled": false
   },
   "outputs": [
    {
     "data": {
      "image/png": "[encoded data removed]",
      "text/plain": [
       "<Figure size 864x720 with 1 Axes>"
      ]
     },
     "metadata": {
      "needs_background": "light"
     },
     "output_type": "display_data"
    }
   ],
   "source": [
    "plt.figure(figsize=(width, height))\n",
    "\n",
    "\n",
    "ax1 = sns.distplot(df['price'], hist=False, color=\"r\", label=\"Actual Value\")\n",
    "sns.distplot(Yhat, hist=False, color=\"b\", label=\"Fitted Values\" , ax=ax1)\n",
    "\n",
    "\n",
    "plt.title('Actual vs Fitted Values for Price')\n",
    "plt.xlabel('Price (in dollars)')\n",
    "plt.ylabel('Proportion of Cars')\n",
    "\n",
    "plt.show()\n",
    "plt.close()"
   ]
  },
  {
   "cell_type": "markdown",
   "metadata": {},
   "source": [
    "<h2>Conclusion:</h2>"
   ]
  },
  {
   "cell_type": "markdown",
   "metadata": {},
   "source": [
    "<p>Comparing these two models, we conclude that <b>the Random Forest Regressor model is the best model</b> to be able to predict price from our dataset. This result makes sense, we know that more than one of those variables are potential predictors of the final car price.</p>"
   ]
  },
  {
   "cell_type": "code",
   "execution_count": null,
   "metadata": {},
   "outputs": [],
   "source": []
  }
 ],
 "metadata": {
  "kernelspec": {
   "display_name": "Python 3 (ipykernel)",
   "language": "python",
   "name": "python3"
  },
  "language_info": {
   "codemirror_mode": {
    "name": "ipython",
    "version": 3
   },
   "file_extension": ".py",
   "mimetype": "text/x-python",
   "name": "python",
   "nbconvert_exporter": "python",
   "pygments_lexer": "ipython3",
   "version": "3.10.9"
  }
 },
 "nbformat": 4,
 "nbformat_minor": 2
}
